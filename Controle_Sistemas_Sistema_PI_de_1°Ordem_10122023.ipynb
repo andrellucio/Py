{
  "nbformat": 4,
  "nbformat_minor": 0,
  "metadata": {
    "colab": {
      "provenance": [],
      "authorship_tag": "ABX9TyN5xnoWqMpXgLuznqdVU1MA",
      "include_colab_link": true
    },
    "kernelspec": {
      "name": "python3",
      "display_name": "Python 3"
    },
    "language_info": {
      "name": "python"
    }
  },
  "cells": [
    {
      "cell_type": "markdown",
      "metadata": {
        "id": "view-in-github",
        "colab_type": "text"
      },
      "source": [
        "<a href=\"https://colab.research.google.com/github/andrellucio/Py/blob/main/Controle_Sistemas_Sistema_PI_de_1%C2%B0Ordem_10122023.ipynb\" target=\"_parent\"><img src=\"https://colab.research.google.com/assets/colab-badge.svg\" alt=\"Open In Colab\"/></a>"
      ]
    },
    {
      "cell_type": "code",
      "execution_count": 11,
      "metadata": {
        "colab": {
          "base_uri": "https://localhost:8080/"
        },
        "id": "N6E7YirtrQh7",
        "outputId": "30cbf3a5-a49c-4aff-f26d-237356782008"
      },
      "outputs": [
        {
          "output_type": "stream",
          "name": "stdout",
          "text": [
            "Requirement already satisfied: control in /usr/local/lib/python3.10/dist-packages (0.9.4)\n",
            "Requirement already satisfied: numpy in /usr/local/lib/python3.10/dist-packages (from control) (1.23.5)\n",
            "Requirement already satisfied: scipy>=1.3 in /usr/local/lib/python3.10/dist-packages (from control) (1.11.4)\n",
            "Requirement already satisfied: matplotlib in /usr/local/lib/python3.10/dist-packages (from control) (3.7.1)\n",
            "Requirement already satisfied: contourpy>=1.0.1 in /usr/local/lib/python3.10/dist-packages (from matplotlib->control) (1.2.0)\n",
            "Requirement already satisfied: cycler>=0.10 in /usr/local/lib/python3.10/dist-packages (from matplotlib->control) (0.12.1)\n",
            "Requirement already satisfied: fonttools>=4.22.0 in /usr/local/lib/python3.10/dist-packages (from matplotlib->control) (4.45.1)\n",
            "Requirement already satisfied: kiwisolver>=1.0.1 in /usr/local/lib/python3.10/dist-packages (from matplotlib->control) (1.4.5)\n",
            "Requirement already satisfied: packaging>=20.0 in /usr/local/lib/python3.10/dist-packages (from matplotlib->control) (23.2)\n",
            "Requirement already satisfied: pillow>=6.2.0 in /usr/local/lib/python3.10/dist-packages (from matplotlib->control) (9.4.0)\n",
            "Requirement already satisfied: pyparsing>=2.3.1 in /usr/local/lib/python3.10/dist-packages (from matplotlib->control) (3.1.1)\n",
            "Requirement already satisfied: python-dateutil>=2.7 in /usr/local/lib/python3.10/dist-packages (from matplotlib->control) (2.8.2)\n",
            "Requirement already satisfied: six>=1.5 in /usr/local/lib/python3.10/dist-packages (from python-dateutil>=2.7->matplotlib->control) (1.16.0)\n"
          ]
        }
      ],
      "source": [
        "pip install control"
      ]
    },
    {
      "cell_type": "code",
      "source": [
        "import control\n",
        "import matplotlib.pyplot as plt\n"
      ],
      "metadata": {
        "id": "hqYJGGkwrULz"
      },
      "execution_count": 12,
      "outputs": []
    },
    {
      "cell_type": "code",
      "source": [
        "# Define transfer function of the system\n",
        "# S -> está no dominio de Laplace (dominio da frequencia)\n",
        "\n",
        "s = control.tf('s')"
      ],
      "metadata": {
        "id": "x0cQ3YytreNL"
      },
      "execution_count": 13,
      "outputs": []
    },
    {
      "cell_type": "code",
      "source": [
        "a = 1  # A é o Ganho proporcional\n",
        "b = 2  # B é o Ganho Integrativo"
      ],
      "metadata": {
        "id": "UwXbQStTr19l"
      },
      "execution_count": 14,
      "outputs": []
    },
    {
      "cell_type": "code",
      "source": [
        "G1 = a\n",
        "G2 = b/s"
      ],
      "metadata": {
        "id": "9k2XgY5vws1u"
      },
      "execution_count": 15,
      "outputs": []
    },
    {
      "cell_type": "code",
      "source": [
        "G_Parallel = control.parallel(G1,G2)"
      ],
      "metadata": {
        "id": "OhfGz5COws-5"
      },
      "execution_count": 16,
      "outputs": []
    },
    {
      "cell_type": "code",
      "source": [
        "G3 = 1/s"
      ],
      "metadata": {
        "id": "0KXp2Lpuxe1w"
      },
      "execution_count": 17,
      "outputs": []
    },
    {
      "cell_type": "code",
      "source": [
        "G_Serie = control.series(G_Parallel, G3)"
      ],
      "metadata": {
        "id": "D5rXqzI6xgtP"
      },
      "execution_count": 18,
      "outputs": []
    },
    {
      "cell_type": "code",
      "source": [
        "sys = control.feedback(G_Serie, 1, sign = -1)   # O feedback ficou com 1, pois o sensor é o uma ligação direta no negativo"
      ],
      "metadata": {
        "id": "lSh_yVTKxhJv"
      },
      "execution_count": 20,
      "outputs": []
    },
    {
      "cell_type": "code",
      "source": [
        "sys\n"
      ],
      "metadata": {
        "colab": {
          "base_uri": "https://localhost:8080/",
          "height": 39
        },
        "id": "ZPpG_dZa5MPY",
        "outputId": "a21a5fa0-2779-4e83-d67d-91dd36618ac6"
      },
      "execution_count": 21,
      "outputs": [
        {
          "output_type": "execute_result",
          "data": {
            "text/plain": [
              "TransferFunction(array([1, 2]), array([1, 1, 2]))"
            ],
            "text/latex": "$$\\frac{s + 2}{s^2 + s + 2}$$"
          },
          "metadata": {},
          "execution_count": 21
        }
      ]
    },
    {
      "cell_type": "code",
      "source": [
        "# Fazendo uma Função degrau"
      ],
      "metadata": {
        "id": "Vh8SN1lS5Mkf"
      },
      "execution_count": null,
      "outputs": []
    },
    {
      "cell_type": "code",
      "source": [
        "t, y = control.step_response(sys)"
      ],
      "metadata": {
        "id": "ZZ53wqQ85Zgh"
      },
      "execution_count": 22,
      "outputs": []
    },
    {
      "cell_type": "code",
      "source": [
        "plt.plot(t,y)"
      ],
      "metadata": {
        "colab": {
          "base_uri": "https://localhost:8080/",
          "height": 447
        },
        "id": "aY-SXD4c5dK7",
        "outputId": "8e01415a-481f-4964-f2d7-78815b28ca46"
      },
      "execution_count": 23,
      "outputs": [
        {
          "output_type": "execute_result",
          "data": {
            "text/plain": [
              "[<matplotlib.lines.Line2D at 0x78e082c2da80>]"
            ]
          },
          "metadata": {},
          "execution_count": 23
        },
        {
          "output_type": "display_data",
          "data": {
            "text/plain": [
              "<Figure size 640x480 with 1 Axes>"
            ],
            "image/png": "[encoded data removed]"
          },
          "metadata": {}
        }
      ]
    },
    {
      "cell_type": "code",
      "source": [],
      "metadata": {
        "id": "BvxdHARY5dfv"
      },
      "execution_count": null,
      "outputs": []
    }
  ]
}