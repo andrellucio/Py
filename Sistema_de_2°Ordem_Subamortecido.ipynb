{
  "nbformat": 4,
  "nbformat_minor": 0,
  "metadata": {
    "colab": {
      "provenance": [],
      "authorship_tag": "ABX9TyMzR825G8eizE/OkcK5Q73Q",
      "include_colab_link": true
    },
    "kernelspec": {
      "name": "python3",
      "display_name": "Python 3"
    },
    "language_info": {
      "name": "python"
    }
  },
  "cells": [
    {
      "cell_type": "markdown",
      "metadata": {
        "id": "view-in-github",
        "colab_type": "text"
      },
      "source": [
        "<a href=\"https://colab.research.google.com/github/andrellucio/Py/blob/main/Sistema_de_2%C2%B0Ordem_Subamortecido.ipynb\" target=\"_parent\"><img src=\"https://colab.research.google.com/assets/colab-badge.svg\" alt=\"Open In Colab\"/></a>"
      ]
    },
    {
      "cell_type": "code",
      "execution_count": 21,
      "metadata": {
        "colab": {
          "base_uri": "https://localhost:8080/"
        },
        "id": "B-w1c-_cws16",
        "outputId": "9be5b684-fae8-453a-91a8-c893497e3cd1"
      },
      "outputs": [
        {
          "output_type": "stream",
          "name": "stdout",
          "text": [
            "Requirement already satisfied: control in /usr/local/lib/python3.10/dist-packages (0.9.4)\n",
            "Requirement already satisfied: numpy in /usr/local/lib/python3.10/dist-packages (from control) (1.23.5)\n",
            "Requirement already satisfied: scipy>=1.3 in /usr/local/lib/python3.10/dist-packages (from control) (1.11.4)\n",
            "Requirement already satisfied: matplotlib in /usr/local/lib/python3.10/dist-packages (from control) (3.7.1)\n",
            "Requirement already satisfied: contourpy>=1.0.1 in /usr/local/lib/python3.10/dist-packages (from matplotlib->control) (1.2.0)\n",
            "Requirement already satisfied: cycler>=0.10 in /usr/local/lib/python3.10/dist-packages (from matplotlib->control) (0.12.1)\n",
            "Requirement already satisfied: fonttools>=4.22.0 in /usr/local/lib/python3.10/dist-packages (from matplotlib->control) (4.45.1)\n",
            "Requirement already satisfied: kiwisolver>=1.0.1 in /usr/local/lib/python3.10/dist-packages (from matplotlib->control) (1.4.5)\n",
            "Requirement already satisfied: packaging>=20.0 in /usr/local/lib/python3.10/dist-packages (from matplotlib->control) (23.2)\n",
            "Requirement already satisfied: pillow>=6.2.0 in /usr/local/lib/python3.10/dist-packages (from matplotlib->control) (9.4.0)\n",
            "Requirement already satisfied: pyparsing>=2.3.1 in /usr/local/lib/python3.10/dist-packages (from matplotlib->control) (3.1.1)\n",
            "Requirement already satisfied: python-dateutil>=2.7 in /usr/local/lib/python3.10/dist-packages (from matplotlib->control) (2.8.2)\n",
            "Requirement already satisfied: six>=1.5 in /usr/local/lib/python3.10/dist-packages (from python-dateutil>=2.7->matplotlib->control) (1.16.0)\n"
          ]
        }
      ],
      "source": [
        "pip install control"
      ]
    },
    {
      "cell_type": "code",
      "source": [
        "import control\n",
        "import matplotlib.pyplot as plt\n"
      ],
      "metadata": {
        "id": "s-0xzH5Nw6wd"
      },
      "execution_count": 22,
      "outputs": []
    },
    {
      "cell_type": "code",
      "source": [
        "# Definine transfer function od the system\n",
        "s = control.tf('s')"
      ],
      "metadata": {
        "id": "-la39KpXw7Dp"
      },
      "execution_count": 23,
      "outputs": []
    },
    {
      "cell_type": "code",
      "source": [
        "#Periodo natural de oscilação\n",
        "Tau = 200\n",
        "\n",
        "#fator de amortecimento (1 Criticamente amortecido)\n",
        "Zeta = 0.5\n",
        "\n",
        "#Ganho do sistema\n",
        "K = 1.0"
      ],
      "metadata": {
        "id": "nDQ2jXU0w7W9"
      },
      "execution_count": 54,
      "outputs": []
    },
    {
      "cell_type": "code",
      "source": [
        "A = Tau**2 # tau ao quadrado\n",
        "B = 2 * Zeta*Tau\n",
        "C = 1\n",
        "\n",
        "sys = K/(A*s**2 + B*s +C)"
      ],
      "metadata": {
        "id": "imScbnTQw7pv"
      },
      "execution_count": 55,
      "outputs": []
    },
    {
      "cell_type": "code",
      "source": [
        "sys"
      ],
      "metadata": {
        "colab": {
          "base_uri": "https://localhost:8080/",
          "height": 39
        },
        "id": "G9s5xCmJyFDo",
        "outputId": "05b079e5-1221-4fca-aebc-b20df36ede8b"
      },
      "execution_count": 56,
      "outputs": [
        {
          "output_type": "execute_result",
          "data": {
            "text/plain": [
              "TransferFunction(array([1.]), array([4.e+04, 2.e+02, 1.e+00]))"
            ],
            "text/latex": "$$\\frac{1}{4 \\times 10^{4} s^2 + 200 s + 1}$$"
          },
          "metadata": {},
          "execution_count": 56
        }
      ]
    },
    {
      "cell_type": "code",
      "source": [
        "# Função degrau da função de 2 ordem\n",
        "t, y = control.step_response(sys)"
      ],
      "metadata": {
        "id": "n33aOSs6yFW_"
      },
      "execution_count": 57,
      "outputs": []
    },
    {
      "cell_type": "code",
      "source": [
        "plt.grid()\n",
        "plt.plot(t, y)"
      ],
      "metadata": {
        "colab": {
          "base_uri": "https://localhost:8080/",
          "height": 447
        },
        "id": "FHlQhPo3yHbx",
        "outputId": "dd575e64-d966-4fd6-b161-5641f056f9ed"
      },
      "execution_count": 58,
      "outputs": [
        {
          "output_type": "execute_result",
          "data": {
            "text/plain": [
              "[<matplotlib.lines.Line2D at 0x7dfbc98c5ea0>]"
            ]
          },
          "metadata": {},
          "execution_count": 58
        },
        {
          "output_type": "display_data",
          "data": {
            "text/plain": [
              "<Figure size 640x480 with 1 Axes>"
            ],
            "image/png": "[encoded data removed]"
          },
          "metadata": {}
        }
      ]
    },
    {
      "cell_type": "code",
      "source": [
        "# Como pode ser visto que o sistema ficou superamortecido e sem nenhuma amortetização"
      ],
      "metadata": {
        "id": "1B2xUyMzyHuV"
      },
      "execution_count": null,
      "outputs": []
    },
    {
      "cell_type": "code",
      "source": [],
      "metadata": {
        "id": "F0WI1yZkyICY"
      },
      "execution_count": null,
      "outputs": []
    }
  ]
}